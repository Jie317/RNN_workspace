{
 "cells": [
  {
   "cell_type": "markdown",
   "metadata": {
    "deletable": true,
    "editable": true
   },
   "source": [
    "In this tutorial I’ll explain how to build a simple working \n",
    "Recurrent Neural Network in TensorFlow! \n",
    "\n",
    "We will build a simple Echo-RNN that remembers the input sequence and then echoes it after a few time-steps. This will help us understand how\n",
    "memory works \n",
    "\n",
    "We are mapping two sequences!"
   ]
  },
  {
   "cell_type": "markdown",
   "metadata": {
    "deletable": true,
    "editable": true
   },
   "source": [
    "# What is an RNN?\n",
    "It is short for “Recurrent Neural Network”, and is basically a neural \n",
    "network that can be used when your data is treated as a sequence, where \n",
    "the particular order of the data-points matter. More importantly, this \n",
    "sequence can be of arbitrary length.\n",
    "\n",
    "The most straight-forward example is perhaps a time-seriedems of numbers, \n",
    "where the task is to predict the next value given previous values. The \n",
    "input to the RNN at every time-step is the current value as well as a \n",
    "state vector which represent what the network has “seen” at time-steps \n",
    "before. This state-vector is the encoded memory of the RNN, initially \n",
    "set to zero.\n",
    "\n",
    "Great paper on this \n",
    "https://arxiv.org/pdf/1506.00019.pdf"
   ]
  },
  {
   "cell_type": "code",
   "execution_count": 4,
   "metadata": {
    "collapsed": false,
    "deletable": true,
    "editable": true,
    "scrolled": true
   },
   "outputs": [],
   "source": [
    "from IPython.display import Image\n",
    "from IPython.core.display import HTML \n",
    "from __future__ import print_function, division\n",
    "import numpy as np\n",
    "import tensorflow as tf\n",
    "import matplotlib.pyplot as plt\n",
    "# Image(url= \"https://cdn-images-1.medium.com/max/1600/1*UkI9za9zTR-HL8uM15Wmzw.png\")"
   ]
  },
  {
   "cell_type": "code",
   "execution_count": 5,
   "metadata": {
    "collapsed": true,
    "deletable": true,
    "editable": true
   },
   "outputs": [],
   "source": [
    "#hyperparams\n",
    "\n",
    "num_epochs = 100\n",
    "total_series_length = 50000\n",
    "truncated_backprop_length = 15\n",
    "state_size = 4\n",
    "num_classes = 2\n",
    "echo_step = 3\n",
    "batch_size = 5\n",
    "num_batches = total_series_length//batch_size//truncated_backprop_length"
   ]
  },
  {
   "cell_type": "code",
   "execution_count": 6,
   "metadata": {
    "collapsed": false,
    "deletable": true,
    "editable": true
   },
   "outputs": [
    {
     "name": "stdout",
     "output_type": "stream",
     "text": [
      "(array([[1, 1, 1, ..., 1, 0, 1],\n",
      "       [1, 0, 1, ..., 1, 0, 1],\n",
      "       [1, 1, 1, ..., 1, 0, 0],\n",
      "       [0, 1, 1, ..., 0, 0, 1],\n",
      "       [1, 1, 1, ..., 0, 1, 0]]), array([[0, 0, 0, ..., 1, 0, 0],\n",
      "       [1, 0, 1, ..., 0, 0, 1],\n",
      "       [1, 0, 1, ..., 0, 1, 0],\n",
      "       [1, 0, 0, ..., 0, 0, 0],\n",
      "       [0, 0, 1, ..., 0, 1, 0]]))\n"
     ]
    }
   ],
   "source": [
    "#Step 1 - Collect data\n",
    "#Now generate the training data, \n",
    "#the input is basically a random binary vector. The output will be the \n",
    "#“echo” of the input, shifted echo_step steps to the right.\n",
    "\n",
    "#Notice the reshaping of the data into a matrix with batch_size rows. \n",
    "#Neural networks are trained by approximating the gradient of loss function \n",
    "#with respect to the neuron-weights, by looking at only a small subset of the data, \n",
    "#also known as a mini-batch.The reshaping takes the whole dataset and puts it into \n",
    "#a matrix, that later will be sliced up into these mini-batches.\n",
    "\n",
    "def generateData():\n",
    "    #0,1, 50K samples, 50% chance each chosen\n",
    "    x = np.array(np.random.choice(2, total_series_length, p=[0.5, 0.5]))\n",
    "    #shift 3 steps to the left\n",
    "    y = np.roll(x, echo_step)\n",
    "    #padd beginning 3 values with 0\n",
    "    y[0:echo_step] = 0\n",
    "    #Gives a new shape to an array without changing its data.\n",
    "    #The reshaping takes the whole dataset and puts it into a matrix, \n",
    "    #that later will be sliced up into these mini-batches.\n",
    "    x = x.reshape((batch_size, -1))  # The first index changing slowest, subseries as rows\n",
    "    y = y.reshape((batch_size, -1))\n",
    "\n",
    "    return (x, y)\n",
    "\n",
    "data = generateData()\n",
    "\n",
    "print(data)"
   ]
  },
  {
   "cell_type": "code",
   "execution_count": 7,
   "metadata": {
    "collapsed": false,
    "deletable": true,
    "editable": true
   },
   "outputs": [
    {
     "data": {
      "text/html": [
       "<img src=\"https://cdn-images-1.medium.com/max/1600/1*aFtwuFsboLV8z5PkEzNLXA.png\"/>"
      ],
      "text/plain": [
       "<IPython.core.display.Image object>"
      ]
     },
     "execution_count": 7,
     "metadata": {},
     "output_type": "execute_result"
    }
   ],
   "source": [
    "#Schematic of the reshaped data-matrix, arrow curves shows adjacent time-steps that ended up on different rows. \n",
    "#Light-gray rectangle represent a “zero” and dark-gray a “one”.\n",
    "Image(url= \"https://cdn-images-1.medium.com/max/1600/1*aFtwuFsboLV8z5PkEzNLXA.png\")"
   ]
  },
  {
   "cell_type": "code",
   "execution_count": 8,
   "metadata": {
    "collapsed": true,
    "deletable": true,
    "editable": true
   },
   "outputs": [],
   "source": [
    "#TensorFlow works by first building up a computational graph, that \n",
    "#specifies what operations will be done. The input and output of this graph\n",
    "#is typically multidimensional arrays, also known as tensors. \n",
    "#The graph, or parts of it can then be executed iteratively in a \n",
    "#session, this can either be done on the CPU, GPU or even a resource \n",
    "#on a remote server.\n",
    "\n",
    "#operations and tensors\n",
    "\n",
    "#The two basic TensorFlow data-structures that will be used in this \n",
    "#example are placeholders and variables. On each run the batch data \n",
    "#is fed to the placeholders, which are “starting nodes” of the \n",
    "#computational graph. Also the RNN-state is supplied in a placeholder, \n",
    "#which is saved from the output of the previous run.\n",
    "\n",
    "#Step 2 - Build the Model\n",
    "\n",
    "#datatype, shape (5, 15) 2D array or matrix, batch size shape for later\n",
    "batchX_placeholder = tf.placeholder(tf.float32, [batch_size, truncated_backprop_length])\n",
    "batchY_placeholder = tf.placeholder(tf.int32, [batch_size, truncated_backprop_length])\n",
    "\n",
    "#and one for the RNN state, 5,4 \n",
    "init_state = tf.placeholder(tf.float32, [batch_size, state_size])"
   ]
  },
  {
   "cell_type": "code",
   "execution_count": 9,
   "metadata": {
    "collapsed": true,
    "deletable": true,
    "editable": true
   },
   "outputs": [],
   "source": [
    "#The weights and biases of the network are declared as TensorFlow variables,\n",
    "#which makes them persistent across runs and enables them to be updated\n",
    "#incrementally for each batch.\n",
    "\n",
    "#3 layer recurrent net, one hidden state\n",
    "\n",
    "#randomly initialize weights\n",
    "W = tf.Variable(np.random.rand(state_size+1, state_size), dtype=tf.float32)\n",
    "#anchor, improves convergance, matrix of 0s \n",
    "b = tf.Variable(np.zeros((1,state_size)), dtype=tf.float32)\n",
    "\n",
    "W2 = tf.Variable(np.random.rand(state_size, num_classes),dtype=tf.float32)\n",
    "b2 = tf.Variable(np.zeros((1,num_classes)), dtype=tf.float32)"
   ]
  },
  {
   "cell_type": "markdown",
   "metadata": {
    "deletable": true,
    "editable": true
   },
   "source": [
    "The figure below shows the input data-matrix, and the current batch batchX_placeholder \n",
    "is in the dashed rectangle. As we will see later, this “batch window” is slided truncated_backprop_length \n",
    "steps to the right at each run, hence the arrow. In our example below batch_size = 3, truncated_backprop_length = 3, \n",
    "and total_series_length = 36. Note that these numbers are just for visualization purposes, the values are different in the code. \n",
    "The series order index is shown as numbers in a few of the data-points."
   ]
  },
  {
   "cell_type": "code",
   "execution_count": 10,
   "metadata": {
    "collapsed": false,
    "deletable": true,
    "editable": true
   },
   "outputs": [
    {
     "data": {
      "text/html": [
       "<img src=\"https://cdn-images-1.medium.com/max/1600/1*n45uYnAfTDrBvG87J-poCA.jpeg\"/>"
      ],
      "text/plain": [
       "<IPython.core.display.Image object>"
      ]
     },
     "execution_count": 10,
     "metadata": {},
     "output_type": "execute_result"
    }
   ],
   "source": [
    "Image(url= \"https://cdn-images-1.medium.com/max/1600/1*n45uYnAfTDrBvG87J-poCA.jpeg\")"
   ]
  },
  {
   "cell_type": "code",
   "execution_count": 11,
   "metadata": {
    "collapsed": true,
    "deletable": true,
    "editable": true
   },
   "outputs": [],
   "source": [
    "#Now it’s time to build the part of the graph that resembles the actual RNN computation, \n",
    "#first we want to split the batch data into adjacent time-steps.\n",
    "\n",
    "# Unpack columns\n",
    "#Unpacks the given dimension of a rank-R tensor into rank-(R-1) tensors.\n",
    "#so a bunch of arrays, 1 batch per time step\n",
    "inputs_series = tf.unpack(batchX_placeholder, axis=1)\n",
    "labels_series = tf.unpack(batchY_placeholder, axis=1)"
   ]
  },
  {
   "cell_type": "markdown",
   "metadata": {
    "deletable": true,
    "editable": true
   },
   "source": [
    "As you can see in the picture below that is done by unpacking the columns (axis = 1) of the batch into a Python list. The RNN will simultaneously be training on different parts in the time-series; steps 4 to 6, 16 to 18 and 28 to 30 in the current batch-example. The reason for using the variable names “plural”_”series” is to emphasize that the variable is a list that represent a time-series with multiple entries at each step."
   ]
  },
  {
   "cell_type": "code",
   "execution_count": 12,
   "metadata": {
    "collapsed": false,
    "deletable": true,
    "editable": true
   },
   "outputs": [
    {
     "data": {
      "text/html": [
       "<img src=\"https://cdn-images-1.medium.com/max/1600/1*f2iL4zOkBUBGOpVE7kyajg.png\"/>"
      ],
      "text/plain": [
       "<IPython.core.display.Image object>"
      ]
     },
     "execution_count": 12,
     "metadata": {},
     "output_type": "execute_result"
    }
   ],
   "source": [
    "Image(url= \"https://cdn-images-1.medium.com/max/1600/1*f2iL4zOkBUBGOpVE7kyajg.png\")\n",
    "#Schematic of the current batch split into columns, the order index is shown on each data-point \n",
    "#and arrows show adjacent time-steps."
   ]
  },
  {
   "cell_type": "markdown",
   "metadata": {
    "deletable": true,
    "editable": true
   },
   "source": [
    "The fact that the training is done on three places simultaneously in our time-series, requires us to save three instances of states when propagating forward. That has already been accounted for, as you see that the init_state placeholder has batch_size rows.\n"
   ]
  },
  {
   "cell_type": "code",
   "execution_count": 13,
   "metadata": {
    "collapsed": true,
    "deletable": true,
    "editable": true
   },
   "outputs": [],
   "source": [
    "#Forward pass\n",
    "#state placeholder\n",
    "current_state = init_state\n",
    "#series of states through time\n",
    "states_series = []\n",
    "\n",
    "\n",
    "#for each set of inputs\n",
    "#forward pass through the network to get new state value\n",
    "#store all states in memory\n",
    "for current_input in inputs_series:\n",
    "    #format input\n",
    "    current_input = tf.reshape(current_input, [batch_size, 1])\n",
    "    #mix both state and input data \n",
    "    input_and_state_concatenated = tf.concat(1, [current_input, current_state])  # Increasing number of columns\n",
    "    #perform matrix multiplication between weights and input, add bias\n",
    "    #squash with a nonlinearity, for probabiolity value\n",
    "    next_state = tf.tanh(tf.matmul(input_and_state_concatenated, W) + b)  # Broadcasted addition\n",
    "    #store the state in memory\n",
    "    states_series.append(next_state)\n",
    "    #set current state to next one\n",
    "    current_state = next_state\n"
   ]
  },
  {
   "cell_type": "markdown",
   "metadata": {
    "deletable": true,
    "editable": true
   },
   "source": [
    "Notice the concatenation on line 6, what we actually want to do is calculate the sum of two affine transforms current_input * Wa + current_state * Wb in the figure below. By concatenating those two tensors you will only use one matrix multiplication. The addition of the bias b is broadcasted on all samples in the batch."
   ]
  },
  {
   "cell_type": "code",
   "execution_count": 14,
   "metadata": {
    "collapsed": false,
    "deletable": true,
    "editable": true
   },
   "outputs": [
    {
     "data": {
      "text/html": [
       "<img src=\"https://cdn-images-1.medium.com/max/1600/1*fdwNNJ5UOE3Sx0R_Cyfmyg.png\"/>"
      ],
      "text/plain": [
       "<IPython.core.display.Image object>"
      ]
     },
     "execution_count": 14,
     "metadata": {},
     "output_type": "execute_result"
    }
   ],
   "source": [
    "Image(url= \"https://cdn-images-1.medium.com/max/1600/1*fdwNNJ5UOE3Sx0R_Cyfmyg.png\")"
   ]
  },
  {
   "cell_type": "markdown",
   "metadata": {
    "deletable": true,
    "editable": true
   },
   "source": [
    "You may wonder the variable name truncated_backprop_length is supposed to mean. When a RNN is trained, it is actually treated as a deep neural network with reoccurring weights in every layer. These layers will not be unrolled to the beginning of time, that would be too computationally expensive, and are therefore truncated at a limited number of time-steps. In our sample schematics above, the error is backpropagated three steps in our batch"
   ]
  },
  {
   "cell_type": "code",
   "execution_count": 15,
   "metadata": {
    "collapsed": true,
    "deletable": true,
    "editable": true
   },
   "outputs": [],
   "source": [
    "#calculate loss\n",
    "#second part of forward pass\n",
    "#logits short for logistic transform\n",
    "logits_series = [tf.matmul(state, W2) + b2 for state in states_series] #Broadcasted addition\n",
    "#apply softmax nonlinearity for output probability\n",
    "predictions_series = [tf.nn.softmax(logits) for logits in logits_series]\n",
    "\n",
    "#measure loss, calculate softmax again on logits, then compute cross entropy\n",
    "#measures the difference between two probability distributions\n",
    "#this will return A Tensor of the same shape as labels and of the same type as logits \n",
    "#with the softmax cross entropy loss.\n",
    "losses = [tf.nn.sparse_softmax_cross_entropy_with_logits(logits, labels) for logits, labels in zip(logits_series,labels_series)]\n",
    "#computes average, one value\n",
    "total_loss = tf.reduce_mean(losses)\n",
    "#use adagrad to minimize with .3 learning rate\n",
    "#minimize it with adagrad, not SGD\n",
    "#One downside of SGD is that it is sensitive to\n",
    "#the learning rate hyper-parameter. When the data are sparse and features have\n",
    "#different frequencies, a single learning rate for every weight update can have\n",
    "#exponential regret.\n",
    "#Some features can be extremely useful and informative to an optimization problem but \n",
    "#they may not show up in most of the training instances or data. If, when they do show up, \n",
    "#they are weighted equally in terms of learning rate as a feature that has shown up hundreds \n",
    "#of times we are practically saying that the influence of such features means nothing in the \n",
    "#overall optimization. it's impact per step in the stochastic gradient descent will be so small \n",
    "#that it can practically be discounted). To counter this, AdaGrad makes it such that features \n",
    "#that are more sparse in the data have a higher learning rate which translates into a larger \n",
    "#update for that feature\n",
    "#sparse features can be very useful.\n",
    "#Each feature has a different learning rate which is adaptable. \n",
    "#gives voice to the little guy who matters a lot\n",
    "#weights that receive high gradients will have their effective learning rate reduced, \n",
    "#while weights that receive small or infrequent updates will have their effective learning rate increased. \n",
    "#great paper http://seed.ucsd.edu/mediawiki/images/6/6a/Adagrad.pdf\n",
    "train_step = tf.train.AdagradOptimizer(0.3).minimize(total_loss)"
   ]
  },
  {
   "cell_type": "markdown",
   "metadata": {
    "deletable": true,
    "editable": true
   },
   "source": [
    "The last line is adding the training functionality, TensorFlow will perform back-propagation for us automatically — the computation graph is executed once for each mini-batch and the network-weights are updated incrementally.\n",
    "\n",
    "Notice the API call to sparse_softmax_cross_entropy_with_logits, it automatically calculates the softmax internally and then computes the cross-entropy. In our example the classes are mutually exclusive (they are either zero or one), which is the reason for using the “Sparse-softmax”, you can read more about it in the API. The usage is to havelogits is of shape [batch_size, num_classes] and labels of shape [batch_size]."
   ]
  },
  {
   "cell_type": "code",
   "execution_count": 16,
   "metadata": {
    "collapsed": true,
    "deletable": true,
    "editable": true
   },
   "outputs": [],
   "source": [
    "#visualizer\n",
    "def plot(loss_list, predictions_series, batchX, batchY):\n",
    "    plt.subplot(2, 3, 1)\n",
    "    plt.cla()\n",
    "    plt.plot(loss_list)\n",
    "\n",
    "    for batch_series_idx in range(5):\n",
    "        one_hot_output_series = np.array(predictions_series)[:, batch_series_idx, :]\n",
    "        single_output_series = np.array([(1 if out[0] < 0.5 else 0) for out in one_hot_output_series])\n",
    "\n",
    "        plt.subplot(2, 3, batch_series_idx + 2)\n",
    "        plt.cla()\n",
    "        plt.axis([0, truncated_backprop_length, 0, 2])\n",
    "        left_offset = range(truncated_backprop_length)\n",
    "        plt.bar(left_offset, batchX[batch_series_idx, :], width=1, color=\"blue\")\n",
    "        plt.bar(left_offset, batchY[batch_series_idx, :] * 0.5, width=1, color=\"red\")\n",
    "        plt.bar(left_offset, single_output_series * 0.3, width=1, color=\"green\")\n",
    "\n",
    "    plt.draw()\n",
    "    plt.pause(0.0001)"
   ]
  },
  {
   "cell_type": "markdown",
   "metadata": {
    "deletable": true,
    "editable": true
   },
   "source": [
    "There is a visualization function so we can se what’s going on in the network as we train. It will plot the loss over the time, show training input, training output and the current predictions by the network on different sample series in a training batch."
   ]
  },
  {
   "cell_type": "code",
   "execution_count": null,
   "metadata": {
    "collapsed": false,
    "deletable": true,
    "editable": true
   },
   "outputs": [
    {
     "name": "stdout",
     "output_type": "stream",
     "text": [
      "WARNING:tensorflow:From <ipython-input-17-ae0feeafb530>:5 in <module>.: initialize_all_variables (from tensorflow.python.ops.variables) is deprecated and will be removed after 2017-03-02.\n",
      "Instructions for updating:\n",
      "Use `tf.global_variables_initializer` instead.\n"
     ]
    },
    {
     "data": {
      "text/plain": [
       "<matplotlib.figure.Figure at 0x7f0a2485fe80>"
      ]
     },
     "metadata": {},
     "output_type": "display_data"
    },
    {
     "name": "stdout",
     "output_type": "stream",
     "text": [
      "New data, epoch 0\n",
      "Step 0 Loss 0.697609\n",
      "Step 100 Loss 0.709574\n",
      "Step 200 Loss 0.694296\n",
      "Step 300 Loss 0.689088\n",
      "Step 400 Loss 0.690956\n",
      "Step 500 Loss 0.689938\n",
      "Step 600 Loss 0.688795\n",
      "New data, epoch 1\n",
      "Step 0 Loss 0.692611\n",
      "Step 100 Loss 0.699064\n",
      "Step 200 Loss 0.694441\n",
      "Step 300 Loss 0.696779\n",
      "Step 400 Loss 0.691704\n",
      "Step 500 Loss 0.696406\n",
      "Step 600 Loss 0.686523\n",
      "New data, epoch 2\n",
      "Step 0 Loss 0.687716\n",
      "Step 100 Loss 0.689138\n",
      "Step 200 Loss 0.704676\n",
      "Step 300 Loss 0.693083\n",
      "Step 400 Loss 0.696722\n",
      "Step 500 Loss 0.461525\n",
      "Step 600 Loss 0.30241\n",
      "New data, epoch 3\n",
      "Step 0 Loss 0.190552\n",
      "Step 100 Loss 0.0422117\n",
      "Step 200 Loss 0.0231688\n",
      "Step 300 Loss 0.0166914\n",
      "Step 400 Loss 0.0130415\n",
      "Step 500 Loss 0.0098387\n",
      "Step 600 Loss 0.00735914\n",
      "New data, epoch 4\n",
      "Step 0 Loss 0.168415\n",
      "Step 100 Loss 0.0179416\n",
      "Step 200 Loss 0.00578878\n",
      "Step 300 Loss 0.00848532\n",
      "Step 400 Loss 0.00613118\n",
      "Step 500 Loss 0.00407557\n",
      "Step 600 Loss 0.00442893\n",
      "New data, epoch 5\n",
      "Step 0 Loss 0.163746\n",
      "Step 100 Loss 0.00343454\n",
      "Step 200 Loss 0.00524622\n",
      "Step 300 Loss 0.00291018\n",
      "Step 400 Loss 0.00295292\n",
      "Step 500 Loss 0.00316489\n",
      "Step 600 Loss 0.00288882\n",
      "New data, epoch 6\n",
      "Step 0 Loss 0.129444\n",
      "Step 100 Loss 0.00255715\n",
      "Step 200 Loss 0.00210952\n",
      "Step 300 Loss 0.00200739\n",
      "Step 400 Loss 0.00281304\n",
      "Step 500 Loss 0.00180272\n",
      "Step 600 Loss 0.00145558\n",
      "New data, epoch 7\n",
      "Step 0 Loss 0.200301\n",
      "Step 100 Loss 0.00184514\n",
      "Step 200 Loss 0.00177459\n",
      "Step 300 Loss 0.00162197\n",
      "Step 400 Loss 0.00156359\n",
      "Step 500 Loss 0.00159224\n",
      "Step 600 Loss 0.00153606\n",
      "New data, epoch 8\n",
      "Step 0 Loss 0.200091\n",
      "Step 100 Loss 0.00191296\n",
      "Step 200 Loss 0.00152011\n",
      "Step 300 Loss 0.00164422\n",
      "Step 400 Loss 0.00154281\n",
      "Step 500 Loss 0.00126609\n",
      "Step 600 Loss 0.00124126\n",
      "New data, epoch 9\n",
      "Step 0 Loss 0.253373\n",
      "Step 100 Loss 0.00116351\n",
      "Step 200 Loss 0.00108913\n",
      "Step 300 Loss 0.000985533\n",
      "Step 400 Loss 0.000983919\n",
      "Step 500 Loss 0.0014546\n",
      "Step 600 Loss 0.000954873\n",
      "New data, epoch 10\n",
      "Step 0 Loss 0.253324\n",
      "Step 100 Loss 0.00109409\n",
      "Step 200 Loss 0.00124358\n",
      "Step 300 Loss 0.000896131\n",
      "Step 400 Loss 0.000891142\n",
      "Step 500 Loss 0.00110932\n",
      "Step 600 Loss 0.00087129\n",
      "New data, epoch 11\n",
      "Step 0 Loss 0.272643\n",
      "Step 100 Loss 0.00124967\n",
      "Step 200 Loss 0.00115775\n",
      "Step 300 Loss 0.000755694\n",
      "Step 400 Loss 0.000969947\n",
      "Step 500 Loss 0.00104147\n",
      "Step 600 Loss 0.000932666\n",
      "New data, epoch 12\n",
      "Step 0 Loss 0.246009\n",
      "Step 100 Loss 0.00102001\n",
      "Step 200 Loss 0.00112928\n",
      "Step 300 Loss 0.00105177\n",
      "Step 400 Loss 0.000791862\n",
      "Step 500 Loss 0.00073598\n",
      "Step 600 Loss 0.000589278\n",
      "New data, epoch 13\n",
      "Step 0 Loss 0.0998127\n",
      "Step 100 Loss 0.000712649\n",
      "Step 200 Loss 0.00075555\n",
      "Step 300 Loss 0.000577148\n",
      "Step 400 Loss 0.000682808\n",
      "Step 500 Loss 0.00065077\n",
      "Step 600 Loss 0.000517365\n",
      "New data, epoch 14\n",
      "Step 0 Loss 0.277322\n",
      "Step 100 Loss 0.000923688\n",
      "Step 200 Loss 0.000796875\n",
      "Step 300 Loss 0.000569587\n",
      "Step 400 Loss 0.000629627\n",
      "Step 500 Loss 0.000647546\n",
      "Step 600 Loss 0.000688254\n",
      "New data, epoch 15\n",
      "Step 0 Loss 0.241591\n",
      "Step 100 Loss 0.00243958\n",
      "Step 200 Loss 0.00157773\n",
      "Step 300 Loss 0.00109305\n",
      "Step 400 Loss 0.00117791\n",
      "Step 500 Loss 0.00111165\n",
      "Step 600 Loss 0.000907108\n",
      "New data, epoch 16\n",
      "Step 0 Loss 0.150208\n",
      "Step 100 Loss 0.000948114\n",
      "Step 200 Loss 0.000830345\n",
      "Step 300 Loss 0.00067923\n",
      "Step 400 Loss 0.000858164\n",
      "Step 500 Loss 0.000860592\n",
      "Step 600 Loss 0.000731174\n",
      "New data, epoch 17\n",
      "Step 0 Loss 0.164423\n",
      "Step 100 Loss 0.000864484\n",
      "Step 200 Loss 0.000775389\n",
      "Step 300 Loss 0.00090431\n",
      "Step 400 Loss 0.000858771\n",
      "Step 500 Loss 0.000659477\n",
      "Step 600 Loss 0.000683405\n",
      "New data, epoch 18\n",
      "Step 0 Loss 0.169909\n",
      "Step 100 Loss 0.000832698\n"
     ]
    }
   ],
   "source": [
    "#Step 3 Training the network\n",
    "with tf.Session() as sess:\n",
    "    #we stupidly have to do this everytime, it should just know\n",
    "    #that we initialized these vars. v2 guys, v2..\n",
    "    sess.run(tf.global_variables_initializer)\n",
    "    #interactive mode\n",
    "    plt.ion()\n",
    "    #initialize the figure\n",
    "    plt.figure()\n",
    "    #show the graph\n",
    "    plt.show()\n",
    "    #to show the loss decrease\n",
    "    loss_list = []\n",
    "\n",
    "    for epoch_idx in range(num_epochs):\n",
    "        #generate data at eveery epoch, batches run in epochs\n",
    "        x,y = generateData()\n",
    "        #initialize an empty hidden state\n",
    "        _current_state = np.zeros((batch_size, state_size))\n",
    "\n",
    "        print(\"New data, epoch\", epoch_idx)\n",
    "        #each batch\n",
    "        for batch_idx in range(num_batches):\n",
    "            #starting and ending point per batch\n",
    "            #since weights reoccuer at every layer through time\n",
    "            #These layers will not be unrolled to the beginning of time, \n",
    "            #that would be too computationally expensive, and are therefore truncated \n",
    "            #at a limited number of time-steps\n",
    "            start_idx = batch_idx * truncated_backprop_length\n",
    "            end_idx = start_idx + truncated_backprop_length\n",
    "\n",
    "            batchX = x[:,start_idx:end_idx]\n",
    "            batchY = y[:,start_idx:end_idx]\n",
    "            \n",
    "            #run the computation graph, give it the values\n",
    "            #we calculated earlier\n",
    "            _total_loss, _train_step, _current_state, _predictions_series = sess.run(\n",
    "                [total_loss, train_step, current_state, predictions_series],\n",
    "                feed_dict={\n",
    "                    batchX_placeholder:batchX,\n",
    "                    batchY_placeholder:batchY,\n",
    "                    init_state:_current_state\n",
    "                })\n",
    "\n",
    "            loss_list.append(_total_loss)\n",
    "\n",
    "            if batch_idx%100 == 0:\n",
    "                print(\"Step\",batch_idx, \"Loss\", _total_loss)\n",
    "                plot(loss_list, _predictions_series, batchX, batchY)\n",
    "\n",
    "plt.ioff()\n",
    "plt.show()"
   ]
  },
  {
   "cell_type": "markdown",
   "metadata": {
    "deletable": true,
    "editable": true
   },
   "source": [
    "You can see that we are moving truncated_backprop_length steps forward on each iteration (line 15–19), but it is possible have different strides. This subject is further elaborated in this article. The downside with doing this is that truncated_backprop_length need to be significantly larger than the time dependencies (three steps in our case) in order to encapsulate the relevant training data. Otherwise there might a lot of “misses”, as you can see on the figure below."
   ]
  },
  {
   "cell_type": "code",
   "execution_count": 20,
   "metadata": {
    "collapsed": false,
    "deletable": true,
    "editable": true
   },
   "outputs": [
    {
     "data": {
      "text/html": [
       "<img src=\"https://cdn-images-1.medium.com/max/1600/1*uKuUKp_m55zAPCzaIemucA.png\"/>"
      ],
      "text/plain": [
       "<IPython.core.display.Image object>"
      ]
     },
     "execution_count": 20,
     "metadata": {},
     "output_type": "execute_result"
    }
   ],
   "source": [
    "Image(url= \"https://cdn-images-1.medium.com/max/1600/1*uKuUKp_m55zAPCzaIemucA.png\")"
   ]
  },
  {
   "cell_type": "markdown",
   "metadata": {
    "deletable": true,
    "editable": true
   },
   "source": [
    "Time series of squares, the elevated black square symbolizes an echo-output, which is activated three steps from the echo input (black square). The sliding batch window is also striding three steps at each run, which in our sample case means that no batch will encapsulate the dependency, so it can not train."
   ]
  },
  {
   "cell_type": "markdown",
   "metadata": {
    "deletable": true,
    "editable": true
   },
   "source": [
    "The network will be able to exactly learn the echo behavior so there is no need for testing data.\n",
    "The program will update the plot as training progresses, Blue bars denote a training input signal (binary one), red bars show echos in the training output and green bars are the echos the net is generating. The different bar plots show different sample series in the current batch. Fully trained at 100 epochs look like this"
   ]
  },
  {
   "cell_type": "code",
   "execution_count": 21,
   "metadata": {
    "collapsed": false,
    "deletable": true,
    "editable": true
   },
   "outputs": [
    {
     "data": {
      "text/html": [
       "<img src=\"https://cdn-images-1.medium.com/max/1600/1*ytquMdmGMJo0-3kxMCi1Gg.png\"/>"
      ],
      "text/plain": [
       "<IPython.core.display.Image object>"
      ]
     },
     "execution_count": 21,
     "metadata": {},
     "output_type": "execute_result"
    }
   ],
   "source": [
    "Image(url= \"https://cdn-images-1.medium.com/max/1600/1*ytquMdmGMJo0-3kxMCi1Gg.png\")"
   ]
  },
  {
   "cell_type": "code",
   "execution_count": null,
   "metadata": {
    "collapsed": true,
    "deletable": true,
    "editable": true
   },
   "outputs": [],
   "source": []
  }
 ],
 "metadata": {
  "kernelspec": {
   "display_name": "Python 3",
   "language": "python",
   "name": "python3"
  },
  "language_info": {
   "codemirror_mode": {
    "name": "ipython",
    "version": 3
   },
   "file_extension": ".py",
   "mimetype": "text/x-python",
   "name": "python",
   "nbconvert_exporter": "python",
   "pygments_lexer": "ipython3",
   "version": "3.6.0"
  }
 },
 "nbformat": 4,
 "nbformat_minor": 2
}
